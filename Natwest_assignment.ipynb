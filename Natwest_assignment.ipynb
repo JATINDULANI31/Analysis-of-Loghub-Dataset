{
 "cells": [
  {
   "cell_type": "markdown",
   "id": "85fc06bc",
   "metadata": {},
   "source": [
    "<h1><center><span style=\"font-size:50px\"><u><b>Data Analysis of Loghub</b></u></span></center></h1>\n"
   ]
  },
  {
   "cell_type": "markdown",
   "id": "067a8b66",
   "metadata": {},
   "source": [
    "<b><span style=\"font-size:24px\"><span style = \"color:red\"><u>About Loghub </u> :- </span></span></b>\n"
   ]
  },
  {
   "cell_type": "markdown",
   "id": "eff78003",
   "metadata": {},
   "source": [
    "<span style=\"font-size:18px\">Logs have been widely adopted in software system development and maintenance because of the rich runtime information they record. In recent years, the increase of software size and complexity leads  to the rapid growth of the volume of logs. To handle these large volumes of logs efficiently and effectively, a line of research focuses on developing intelligent and automated log analysis techniques.In particular, loghub provides 19 real-world log datasets collected from a wide range of software systems, including distributed systems, supercomputers, operating systems, mobile systems, server applications, and standalone software.</span>"
   ]
  },
  {
   "cell_type": "markdown",
   "id": "e6a93a51",
   "metadata": {},
   "source": [
    "<span style=\"font-size:20px\">The loghub\n",
    "datasets are available <a href = \"https://github.com/logpai/loghub\">here</a></span>."
   ]
  },
  {
   "cell_type": "code",
   "execution_count": 164,
   "id": "cdcc455d",
   "metadata": {},
   "outputs": [],
   "source": [
    "#importing required libraries\n",
    "import pandas as pd \n",
    "import matplotlib.pyplot as plt\n",
    "import seaborn as sns"
   ]
  },
  {
   "cell_type": "markdown",
   "id": "617417a1",
   "metadata": {},
   "source": [
    "<b>Reading the data as a csv file..</b>"
   ]
  },
  {
   "cell_type": "code",
   "execution_count": 165,
   "id": "19f80784",
   "metadata": {},
   "outputs": [
    {
     "data": {
      "text/html": [
       "<div>\n",
       "<style scoped>\n",
       "    .dataframe tbody tr th:only-of-type {\n",
       "        vertical-align: middle;\n",
       "    }\n",
       "\n",
       "    .dataframe tbody tr th {\n",
       "        vertical-align: top;\n",
       "    }\n",
       "\n",
       "    .dataframe thead th {\n",
       "        text-align: right;\n",
       "    }\n",
       "</style>\n",
       "<table border=\"1\" class=\"dataframe\">\n",
       "  <thead>\n",
       "    <tr style=\"text-align: right;\">\n",
       "      <th></th>\n",
       "      <th>LineId</th>\n",
       "      <th>Time</th>\n",
       "      <th>Component</th>\n",
       "      <th>Pid</th>\n",
       "      <th>Content</th>\n",
       "      <th>EventId</th>\n",
       "      <th>EventTemplate</th>\n",
       "    </tr>\n",
       "  </thead>\n",
       "  <tbody>\n",
       "    <tr>\n",
       "      <th>0</th>\n",
       "      <td>1</td>\n",
       "      <td>20171223-22:15:29:606</td>\n",
       "      <td>Step_LSC</td>\n",
       "      <td>30002312</td>\n",
       "      <td>onStandStepChanged 3579</td>\n",
       "      <td>E42</td>\n",
       "      <td>onStandStepChanged &lt;*&gt;</td>\n",
       "    </tr>\n",
       "    <tr>\n",
       "      <th>1</th>\n",
       "      <td>2</td>\n",
       "      <td>20171223-22:15:29:615</td>\n",
       "      <td>Step_LSC</td>\n",
       "      <td>30002312</td>\n",
       "      <td>onExtend:1514038530000 14 0 4</td>\n",
       "      <td>E39</td>\n",
       "      <td>onExtend:&lt;*&gt; &lt;*&gt; &lt;*&gt; &lt;*&gt;</td>\n",
       "    </tr>\n",
       "    <tr>\n",
       "      <th>2</th>\n",
       "      <td>3</td>\n",
       "      <td>20171223-22:15:29:633</td>\n",
       "      <td>Step_StandReportReceiver</td>\n",
       "      <td>30002312</td>\n",
       "      <td>onReceive action: android.intent.action.SCREEN_ON</td>\n",
       "      <td>E41</td>\n",
       "      <td>onReceive action: android.intent.action.SCREEN_ON</td>\n",
       "    </tr>\n",
       "    <tr>\n",
       "      <th>3</th>\n",
       "      <td>4</td>\n",
       "      <td>20171223-22:15:29:635</td>\n",
       "      <td>Step_LSC</td>\n",
       "      <td>30002312</td>\n",
       "      <td>processHandleBroadcastAction action:android.in...</td>\n",
       "      <td>E43</td>\n",
       "      <td>processHandleBroadcastAction action:android.in...</td>\n",
       "    </tr>\n",
       "    <tr>\n",
       "      <th>4</th>\n",
       "      <td>5</td>\n",
       "      <td>20171223-22:15:29:635</td>\n",
       "      <td>Step_StandStepCounter</td>\n",
       "      <td>30002312</td>\n",
       "      <td>flush sensor data</td>\n",
       "      <td>E12</td>\n",
       "      <td>flush sensor data</td>\n",
       "    </tr>\n",
       "  </tbody>\n",
       "</table>\n",
       "</div>"
      ],
      "text/plain": [
       "   LineId                   Time                 Component       Pid  \\\n",
       "0       1  20171223-22:15:29:606                  Step_LSC  30002312   \n",
       "1       2  20171223-22:15:29:615                  Step_LSC  30002312   \n",
       "2       3  20171223-22:15:29:633  Step_StandReportReceiver  30002312   \n",
       "3       4  20171223-22:15:29:635                  Step_LSC  30002312   \n",
       "4       5  20171223-22:15:29:635     Step_StandStepCounter  30002312   \n",
       "\n",
       "                                             Content EventId  \\\n",
       "0                            onStandStepChanged 3579     E42   \n",
       "1                      onExtend:1514038530000 14 0 4     E39   \n",
       "2  onReceive action: android.intent.action.SCREEN_ON     E41   \n",
       "3  processHandleBroadcastAction action:android.in...     E43   \n",
       "4                                  flush sensor data     E12   \n",
       "\n",
       "                                       EventTemplate  \n",
       "0                             onStandStepChanged <*>  \n",
       "1                           onExtend:<*> <*> <*> <*>  \n",
       "2  onReceive action: android.intent.action.SCREEN_ON  \n",
       "3  processHandleBroadcastAction action:android.in...  \n",
       "4                                  flush sensor data  "
      ]
     },
     "execution_count": 165,
     "metadata": {},
     "output_type": "execute_result"
    }
   ],
   "source": [
    "df = pd.read_csv('HealthApp_2k.log_structured.csv')\n",
    "df.head() #this represents some top entries of the data"
   ]
  },
  {
   "cell_type": "markdown",
   "id": "1d81735e",
   "metadata": {},
   "source": [
    "<center><span style=\"font-size:30px\"><b><u>Data</u> <u>Preprocessing</u></b></span></center>"
   ]
  },
  {
   "cell_type": "code",
   "execution_count": 166,
   "id": "2fee1348",
   "metadata": {
    "scrolled": true
   },
   "outputs": [
    {
     "name": "stdout",
     "output_type": "stream",
     "text": [
      "<class 'pandas.core.frame.DataFrame'>\n",
      "RangeIndex: 2000 entries, 0 to 1999\n",
      "Data columns (total 7 columns):\n",
      " #   Column         Non-Null Count  Dtype \n",
      "---  ------         --------------  ----- \n",
      " 0   LineId         2000 non-null   int64 \n",
      " 1   Time           2000 non-null   object\n",
      " 2   Component      2000 non-null   object\n",
      " 3   Pid            2000 non-null   int64 \n",
      " 4   Content        2000 non-null   object\n",
      " 5   EventId        2000 non-null   object\n",
      " 6   EventTemplate  2000 non-null   object\n",
      "dtypes: int64(2), object(5)\n",
      "memory usage: 109.5+ KB\n"
     ]
    }
   ],
   "source": [
    "df.info()"
   ]
  },
  {
   "cell_type": "code",
   "execution_count": 167,
   "id": "c5d087f2",
   "metadata": {},
   "outputs": [
    {
     "data": {
      "text/plain": [
       "LineId           0\n",
       "Time             0\n",
       "Component        0\n",
       "Pid              0\n",
       "Content          0\n",
       "EventId          0\n",
       "EventTemplate    0\n",
       "dtype: int64"
      ]
     },
     "execution_count": 167,
     "metadata": {},
     "output_type": "execute_result"
    }
   ],
   "source": [
    "df.isnull().sum()"
   ]
  },
  {
   "cell_type": "markdown",
   "id": "ede2e69c",
   "metadata": {},
   "source": [
    "As we can see that there is No <b>NULL</b> value present so we can proceed futher without removing Null values..."
   ]
  },
  {
   "cell_type": "code",
   "execution_count": 168,
   "id": "f2b439be",
   "metadata": {},
   "outputs": [
    {
     "data": {
      "text/plain": [
       "0       20171223-22:15:29:606\n",
       "1       20171223-22:15:29:615\n",
       "2       20171223-22:15:29:633\n",
       "3       20171223-22:15:29:635\n",
       "4       20171223-22:15:29:635\n",
       "                ...          \n",
       "1995     20171224-0:58:53:985\n",
       "1996      20171224-0:59:7:581\n",
       "1997       20171224-1:0:0:794\n",
       "1998       20171224-1:1:0:935\n",
       "1999      20171224-1:2:35:789\n",
       "Name: Time, Length: 2000, dtype: object"
      ]
     },
     "execution_count": 168,
     "metadata": {},
     "output_type": "execute_result"
    }
   ],
   "source": [
    "df['Time']"
   ]
  },
  {
   "cell_type": "code",
   "execution_count": 169,
   "id": "c0377731",
   "metadata": {},
   "outputs": [
    {
     "data": {
      "text/html": [
       "<div>\n",
       "<style scoped>\n",
       "    .dataframe tbody tr th:only-of-type {\n",
       "        vertical-align: middle;\n",
       "    }\n",
       "\n",
       "    .dataframe tbody tr th {\n",
       "        vertical-align: top;\n",
       "    }\n",
       "\n",
       "    .dataframe thead th {\n",
       "        text-align: right;\n",
       "    }\n",
       "</style>\n",
       "<table border=\"1\" class=\"dataframe\">\n",
       "  <thead>\n",
       "    <tr style=\"text-align: right;\">\n",
       "      <th></th>\n",
       "      <th>LineId</th>\n",
       "      <th>Time</th>\n",
       "      <th>Component</th>\n",
       "      <th>Pid</th>\n",
       "      <th>Content</th>\n",
       "      <th>EventId</th>\n",
       "      <th>EventTemplate</th>\n",
       "    </tr>\n",
       "  </thead>\n",
       "  <tbody>\n",
       "    <tr>\n",
       "      <th>0</th>\n",
       "      <td>1</td>\n",
       "      <td>2017-12-23 22:15:29.606</td>\n",
       "      <td>Step_LSC</td>\n",
       "      <td>30002312</td>\n",
       "      <td>onStandStepChanged 3579</td>\n",
       "      <td>E42</td>\n",
       "      <td>onStandStepChanged &lt;*&gt;</td>\n",
       "    </tr>\n",
       "    <tr>\n",
       "      <th>1</th>\n",
       "      <td>2</td>\n",
       "      <td>2017-12-23 22:15:29.615</td>\n",
       "      <td>Step_LSC</td>\n",
       "      <td>30002312</td>\n",
       "      <td>onExtend:1514038530000 14 0 4</td>\n",
       "      <td>E39</td>\n",
       "      <td>onExtend:&lt;*&gt; &lt;*&gt; &lt;*&gt; &lt;*&gt;</td>\n",
       "    </tr>\n",
       "    <tr>\n",
       "      <th>2</th>\n",
       "      <td>3</td>\n",
       "      <td>2017-12-23 22:15:29.633</td>\n",
       "      <td>Step_StandReportReceiver</td>\n",
       "      <td>30002312</td>\n",
       "      <td>onReceive action: android.intent.action.SCREEN_ON</td>\n",
       "      <td>E41</td>\n",
       "      <td>onReceive action: android.intent.action.SCREEN_ON</td>\n",
       "    </tr>\n",
       "    <tr>\n",
       "      <th>3</th>\n",
       "      <td>4</td>\n",
       "      <td>2017-12-23 22:15:29.635</td>\n",
       "      <td>Step_LSC</td>\n",
       "      <td>30002312</td>\n",
       "      <td>processHandleBroadcastAction action:android.in...</td>\n",
       "      <td>E43</td>\n",
       "      <td>processHandleBroadcastAction action:android.in...</td>\n",
       "    </tr>\n",
       "    <tr>\n",
       "      <th>4</th>\n",
       "      <td>5</td>\n",
       "      <td>2017-12-23 22:15:29.635</td>\n",
       "      <td>Step_StandStepCounter</td>\n",
       "      <td>30002312</td>\n",
       "      <td>flush sensor data</td>\n",
       "      <td>E12</td>\n",
       "      <td>flush sensor data</td>\n",
       "    </tr>\n",
       "    <tr>\n",
       "      <th>...</th>\n",
       "      <td>...</td>\n",
       "      <td>...</td>\n",
       "      <td>...</td>\n",
       "      <td>...</td>\n",
       "      <td>...</td>\n",
       "      <td>...</td>\n",
       "      <td>...</td>\n",
       "    </tr>\n",
       "    <tr>\n",
       "      <th>1995</th>\n",
       "      <td>1996</td>\n",
       "      <td>2017-12-24 00:58:53.985</td>\n",
       "      <td>Step_LSC</td>\n",
       "      <td>30002312</td>\n",
       "      <td>processHandleBroadcastAction action:android.in...</td>\n",
       "      <td>E44</td>\n",
       "      <td>processHandleBroadcastAction action:android.in...</td>\n",
       "    </tr>\n",
       "    <tr>\n",
       "      <th>1996</th>\n",
       "      <td>1997</td>\n",
       "      <td>2017-12-24 00:59:07.581</td>\n",
       "      <td>Step_LSC</td>\n",
       "      <td>30002312</td>\n",
       "      <td>processHandleBroadcastAction action:android.in...</td>\n",
       "      <td>E44</td>\n",
       "      <td>processHandleBroadcastAction action:android.in...</td>\n",
       "    </tr>\n",
       "    <tr>\n",
       "      <th>1997</th>\n",
       "      <td>1998</td>\n",
       "      <td>2017-12-24 01:00:00.794</td>\n",
       "      <td>Step_LSC</td>\n",
       "      <td>30002312</td>\n",
       "      <td>processHandleBroadcastAction action:android.in...</td>\n",
       "      <td>E44</td>\n",
       "      <td>processHandleBroadcastAction action:android.in...</td>\n",
       "    </tr>\n",
       "    <tr>\n",
       "      <th>1998</th>\n",
       "      <td>1999</td>\n",
       "      <td>2017-12-24 01:01:00.935</td>\n",
       "      <td>Step_LSC</td>\n",
       "      <td>30002312</td>\n",
       "      <td>processHandleBroadcastAction action:android.in...</td>\n",
       "      <td>E44</td>\n",
       "      <td>processHandleBroadcastAction action:android.in...</td>\n",
       "    </tr>\n",
       "    <tr>\n",
       "      <th>1999</th>\n",
       "      <td>2000</td>\n",
       "      <td>2017-12-24 01:02:35.789</td>\n",
       "      <td>Step_LSC</td>\n",
       "      <td>30002312</td>\n",
       "      <td>processHandleBroadcastAction action:android.in...</td>\n",
       "      <td>E44</td>\n",
       "      <td>processHandleBroadcastAction action:android.in...</td>\n",
       "    </tr>\n",
       "  </tbody>\n",
       "</table>\n",
       "<p>2000 rows × 7 columns</p>\n",
       "</div>"
      ],
      "text/plain": [
       "      LineId                    Time                 Component       Pid  \\\n",
       "0          1 2017-12-23 22:15:29.606                  Step_LSC  30002312   \n",
       "1          2 2017-12-23 22:15:29.615                  Step_LSC  30002312   \n",
       "2          3 2017-12-23 22:15:29.633  Step_StandReportReceiver  30002312   \n",
       "3          4 2017-12-23 22:15:29.635                  Step_LSC  30002312   \n",
       "4          5 2017-12-23 22:15:29.635     Step_StandStepCounter  30002312   \n",
       "...      ...                     ...                       ...       ...   \n",
       "1995    1996 2017-12-24 00:58:53.985                  Step_LSC  30002312   \n",
       "1996    1997 2017-12-24 00:59:07.581                  Step_LSC  30002312   \n",
       "1997    1998 2017-12-24 01:00:00.794                  Step_LSC  30002312   \n",
       "1998    1999 2017-12-24 01:01:00.935                  Step_LSC  30002312   \n",
       "1999    2000 2017-12-24 01:02:35.789                  Step_LSC  30002312   \n",
       "\n",
       "                                                Content EventId  \\\n",
       "0                               onStandStepChanged 3579     E42   \n",
       "1                         onExtend:1514038530000 14 0 4     E39   \n",
       "2     onReceive action: android.intent.action.SCREEN_ON     E41   \n",
       "3     processHandleBroadcastAction action:android.in...     E43   \n",
       "4                                     flush sensor data     E12   \n",
       "...                                                 ...     ...   \n",
       "1995  processHandleBroadcastAction action:android.in...     E44   \n",
       "1996  processHandleBroadcastAction action:android.in...     E44   \n",
       "1997  processHandleBroadcastAction action:android.in...     E44   \n",
       "1998  processHandleBroadcastAction action:android.in...     E44   \n",
       "1999  processHandleBroadcastAction action:android.in...     E44   \n",
       "\n",
       "                                          EventTemplate  \n",
       "0                                onStandStepChanged <*>  \n",
       "1                              onExtend:<*> <*> <*> <*>  \n",
       "2     onReceive action: android.intent.action.SCREEN_ON  \n",
       "3     processHandleBroadcastAction action:android.in...  \n",
       "4                                     flush sensor data  \n",
       "...                                                 ...  \n",
       "1995  processHandleBroadcastAction action:android.in...  \n",
       "1996  processHandleBroadcastAction action:android.in...  \n",
       "1997  processHandleBroadcastAction action:android.in...  \n",
       "1998  processHandleBroadcastAction action:android.in...  \n",
       "1999  processHandleBroadcastAction action:android.in...  \n",
       "\n",
       "[2000 rows x 7 columns]"
      ]
     },
     "execution_count": 169,
     "metadata": {},
     "output_type": "execute_result"
    }
   ],
   "source": [
    "# Convert the 'Timestamp' column to datetime format\n",
    "df['Time'] = pd.to_datetime(df['Time'], format='%Y%m%d-%H:%M:%S:%f')\n",
    "df = df.sort_values(by='Time')\n",
    "df"
   ]
  },
  {
   "cell_type": "code",
   "execution_count": 170,
   "id": "d25c84cc",
   "metadata": {
    "scrolled": true
   },
   "outputs": [
    {
     "data": {
      "text/plain": [
       "array(['Step_LSC', 'Step_StandReportReceiver', 'Step_StandStepCounter',\n",
       "       'Step_SPUtils', 'Step_ExtSDM', 'Step_ScreenUtil',\n",
       "       'Step_FlushableStepDataCache', 'HiH_HiAppUtil',\n",
       "       'HiH_HiHealthBinder', 'HiH_HiHealthDataInsertStore',\n",
       "       'HiH_DataStatManager', 'HiH_ListenerManager', 'HiH_HiSyncControl',\n",
       "       'HiH_HiSyncUtil', 'HiH_', 'HiH_HiBroadcastUtil',\n",
       "       'Step_StandStepDataManager', 'Step_DataCache', 'Step_HGNH',\n",
       "       'Step_NotificationUtil'], dtype=object)"
      ]
     },
     "execution_count": 170,
     "metadata": {},
     "output_type": "execute_result"
    }
   ],
   "source": [
    "df['Component'].unique()"
   ]
  },
  {
   "cell_type": "code",
   "execution_count": 171,
   "id": "a69cc757",
   "metadata": {},
   "outputs": [
    {
     "data": {
      "text/plain": [
       "array(['onStandStepChanged 3579', 'onExtend:1514038530000 14 0 4',\n",
       "       'onReceive action: android.intent.action.SCREEN_ON', ...,\n",
       "       ' getTodayTotalDetailSteps = 1514046240000##0##549659##8661##16256##34961757',\n",
       "       'setTodayTotalDetailSteps=1514046420000##0##549659##8661##16256##35149773',\n",
       "       'checkCurrentDay a new day comes , reset basicSyncCondition, currentDay is 20171224 oldDay is 20171223'],\n",
       "      dtype=object)"
      ]
     },
     "execution_count": 171,
     "metadata": {},
     "output_type": "execute_result"
    }
   ],
   "source": [
    "df[\"Content\"].unique()"
   ]
  },
  {
   "cell_type": "code",
   "execution_count": 172,
   "id": "b6640d11",
   "metadata": {},
   "outputs": [
    {
     "data": {
      "text/plain": [
       "array(['E42', 'E39', 'E41', 'E43', 'E12', 'E22', 'E58', 'E4', 'E3', 'E47',\n",
       "       'E40', 'E53', 'E35', 'E44', 'E14', 'E1', 'E75', 'E72', 'E16',\n",
       "       'E15', 'E32', 'E34', 'E49', 'E52', 'E37', 'E50', 'E2', 'E63',\n",
       "       'E73', 'E74', 'E33', 'E31', 'E8', 'E7', 'E67', 'E62', 'E61', 'E6',\n",
       "       'E64', 'E36', 'E25', 'E24', 'E28', 'E27', 'E23', 'E54', 'E51',\n",
       "       'E29', 'E30', 'E60', 'E13', 'E59', 'E69', 'E65', 'E66', 'E21',\n",
       "       'E68', 'E48', 'E19', 'E18', 'E26', 'E45', 'E9', 'E20', 'E70',\n",
       "       'E17', 'E55', 'E56', 'E71', 'E46', 'E38', 'E57', 'E10', 'E11',\n",
       "       'E5'], dtype=object)"
      ]
     },
     "execution_count": 172,
     "metadata": {},
     "output_type": "execute_result"
    }
   ],
   "source": [
    "df['EventId'].unique()"
   ]
  },
  {
   "cell_type": "markdown",
   "id": "4df515dc",
   "metadata": {},
   "source": [
    "<center><span style=\"font-size:30px\"><b><u>Event</u> <u>Analysis</u></b></span></center>"
   ]
  },
  {
   "cell_type": "code",
   "execution_count": 173,
   "id": "c221ea82",
   "metadata": {},
   "outputs": [],
   "source": [
    "event_counts = df['EventId'].value_counts()"
   ]
  },
  {
   "cell_type": "code",
   "execution_count": 174,
   "id": "6bd7de75",
   "metadata": {},
   "outputs": [
    {
     "data": {
      "image/png": "[encoded data removed]",
      "text/plain": [
       "<Figure size 1500x1000 with 1 Axes>"
      ]
     },
     "metadata": {},
     "output_type": "display_data"
    }
   ],
   "source": [
    "plt.figure(figsize=(15, 10))\n",
    "event_counts.plot(kind='bar',color = 'red')\n",
    "plt.title('Event Analysis')\n",
    "plt.xlabel('EventId')\n",
    "plt.ylabel('Frequency')\n",
    "plt.grid(axis='y')\n",
    "plt.tight_layout()\n",
    "plt.show()"
   ]
  },
  {
   "cell_type": "markdown",
   "id": "866f271c",
   "metadata": {},
   "source": [
    "<center><span style=\"font-size:20px\">This Plot signifies the frequency of each event that is exactly how many does a particular event occur.</span></center>"
   ]
  },
  {
   "cell_type": "markdown",
   "id": "d4f3ba1f",
   "metadata": {},
   "source": [
    "<center><span style=\"font-size:30px\"><b><u>Frequency</u> <u>of</u> <u>Occuring</u> <u>of</u> <u>Events</u></b></span></center>"
   ]
  },
  {
   "cell_type": "code",
   "execution_count": 175,
   "id": "fbf7199a",
   "metadata": {},
   "outputs": [
    {
     "data": {
      "image/png": "[encoded data removed]",
      "text/plain": [
       "<Figure size 1000x600 with 1 Axes>"
      ]
     },
     "metadata": {},
     "output_type": "display_data"
    }
   ],
   "source": [
    "plt.figure(figsize=(10, 6))\n",
    "plt.plot(df['Time'], df.index, color='r')\n",
    "plt.title('Event Occurance with Time')\n",
    "plt.xlabel('Time')\n",
    "plt.ylabel('Index')\n",
    "plt.grid(True)\n",
    "plt.show()"
   ]
  },
  {
   "cell_type": "markdown",
   "id": "6e4be413",
   "metadata": {},
   "source": [
    "<center><span style=\"font-size:20px\">This Plot signifies the occurence of each event with respect to time.</span></center>"
   ]
  },
  {
   "cell_type": "markdown",
   "id": "a0427fd3",
   "metadata": {},
   "source": [
    "<center><span style=\"font-size:30px\"><b><u>Screen</u> <u>Time</u> <u>Analysis</u></b></span></center>"
   ]
  },
  {
   "cell_type": "code",
   "execution_count": 176,
   "id": "a32845f0",
   "metadata": {},
   "outputs": [],
   "source": [
    "import re #regular expression library of python"
   ]
  },
  {
   "cell_type": "code",
   "execution_count": 177,
   "id": "945e9911",
   "metadata": {},
   "outputs": [
    {
     "data": {
      "text/html": [
       "<div>\n",
       "<style scoped>\n",
       "    .dataframe tbody tr th:only-of-type {\n",
       "        vertical-align: middle;\n",
       "    }\n",
       "\n",
       "    .dataframe tbody tr th {\n",
       "        vertical-align: top;\n",
       "    }\n",
       "\n",
       "    .dataframe thead th {\n",
       "        text-align: right;\n",
       "    }\n",
       "</style>\n",
       "<table border=\"1\" class=\"dataframe\">\n",
       "  <thead>\n",
       "    <tr style=\"text-align: right;\">\n",
       "      <th></th>\n",
       "      <th>LineId</th>\n",
       "      <th>Time</th>\n",
       "      <th>Component</th>\n",
       "      <th>Pid</th>\n",
       "      <th>Content</th>\n",
       "      <th>EventId</th>\n",
       "      <th>EventTemplate</th>\n",
       "      <th>Screen_Status</th>\n",
       "    </tr>\n",
       "  </thead>\n",
       "  <tbody>\n",
       "    <tr>\n",
       "      <th>0</th>\n",
       "      <td>1</td>\n",
       "      <td>2017-12-23 22:15:29.606</td>\n",
       "      <td>Step_LSC</td>\n",
       "      <td>30002312</td>\n",
       "      <td>onStandStepChanged 3579</td>\n",
       "      <td>E42</td>\n",
       "      <td>onStandStepChanged &lt;*&gt;</td>\n",
       "      <td>NaN</td>\n",
       "    </tr>\n",
       "    <tr>\n",
       "      <th>1</th>\n",
       "      <td>2</td>\n",
       "      <td>2017-12-23 22:15:29.615</td>\n",
       "      <td>Step_LSC</td>\n",
       "      <td>30002312</td>\n",
       "      <td>onExtend:1514038530000 14 0 4</td>\n",
       "      <td>E39</td>\n",
       "      <td>onExtend:&lt;*&gt; &lt;*&gt; &lt;*&gt; &lt;*&gt;</td>\n",
       "      <td>NaN</td>\n",
       "    </tr>\n",
       "    <tr>\n",
       "      <th>2</th>\n",
       "      <td>3</td>\n",
       "      <td>2017-12-23 22:15:29.633</td>\n",
       "      <td>Step_StandReportReceiver</td>\n",
       "      <td>30002312</td>\n",
       "      <td>onReceive action: android.intent.action.SCREEN_ON</td>\n",
       "      <td>E41</td>\n",
       "      <td>onReceive action: android.intent.action.SCREEN_ON</td>\n",
       "      <td>SCREEN_ON</td>\n",
       "    </tr>\n",
       "    <tr>\n",
       "      <th>3</th>\n",
       "      <td>4</td>\n",
       "      <td>2017-12-23 22:15:29.635</td>\n",
       "      <td>Step_LSC</td>\n",
       "      <td>30002312</td>\n",
       "      <td>processHandleBroadcastAction action:android.in...</td>\n",
       "      <td>E43</td>\n",
       "      <td>processHandleBroadcastAction action:android.in...</td>\n",
       "      <td>SCREEN_ON</td>\n",
       "    </tr>\n",
       "    <tr>\n",
       "      <th>4</th>\n",
       "      <td>5</td>\n",
       "      <td>2017-12-23 22:15:29.635</td>\n",
       "      <td>Step_StandStepCounter</td>\n",
       "      <td>30002312</td>\n",
       "      <td>flush sensor data</td>\n",
       "      <td>E12</td>\n",
       "      <td>flush sensor data</td>\n",
       "      <td>NaN</td>\n",
       "    </tr>\n",
       "    <tr>\n",
       "      <th>...</th>\n",
       "      <td>...</td>\n",
       "      <td>...</td>\n",
       "      <td>...</td>\n",
       "      <td>...</td>\n",
       "      <td>...</td>\n",
       "      <td>...</td>\n",
       "      <td>...</td>\n",
       "      <td>...</td>\n",
       "    </tr>\n",
       "    <tr>\n",
       "      <th>1995</th>\n",
       "      <td>1996</td>\n",
       "      <td>2017-12-24 00:58:53.985</td>\n",
       "      <td>Step_LSC</td>\n",
       "      <td>30002312</td>\n",
       "      <td>processHandleBroadcastAction action:android.in...</td>\n",
       "      <td>E44</td>\n",
       "      <td>processHandleBroadcastAction action:android.in...</td>\n",
       "      <td>NaN</td>\n",
       "    </tr>\n",
       "    <tr>\n",
       "      <th>1996</th>\n",
       "      <td>1997</td>\n",
       "      <td>2017-12-24 00:59:07.581</td>\n",
       "      <td>Step_LSC</td>\n",
       "      <td>30002312</td>\n",
       "      <td>processHandleBroadcastAction action:android.in...</td>\n",
       "      <td>E44</td>\n",
       "      <td>processHandleBroadcastAction action:android.in...</td>\n",
       "      <td>NaN</td>\n",
       "    </tr>\n",
       "    <tr>\n",
       "      <th>1997</th>\n",
       "      <td>1998</td>\n",
       "      <td>2017-12-24 01:00:00.794</td>\n",
       "      <td>Step_LSC</td>\n",
       "      <td>30002312</td>\n",
       "      <td>processHandleBroadcastAction action:android.in...</td>\n",
       "      <td>E44</td>\n",
       "      <td>processHandleBroadcastAction action:android.in...</td>\n",
       "      <td>NaN</td>\n",
       "    </tr>\n",
       "    <tr>\n",
       "      <th>1998</th>\n",
       "      <td>1999</td>\n",
       "      <td>2017-12-24 01:01:00.935</td>\n",
       "      <td>Step_LSC</td>\n",
       "      <td>30002312</td>\n",
       "      <td>processHandleBroadcastAction action:android.in...</td>\n",
       "      <td>E44</td>\n",
       "      <td>processHandleBroadcastAction action:android.in...</td>\n",
       "      <td>NaN</td>\n",
       "    </tr>\n",
       "    <tr>\n",
       "      <th>1999</th>\n",
       "      <td>2000</td>\n",
       "      <td>2017-12-24 01:02:35.789</td>\n",
       "      <td>Step_LSC</td>\n",
       "      <td>30002312</td>\n",
       "      <td>processHandleBroadcastAction action:android.in...</td>\n",
       "      <td>E44</td>\n",
       "      <td>processHandleBroadcastAction action:android.in...</td>\n",
       "      <td>NaN</td>\n",
       "    </tr>\n",
       "  </tbody>\n",
       "</table>\n",
       "<p>2000 rows × 8 columns</p>\n",
       "</div>"
      ],
      "text/plain": [
       "      LineId                    Time                 Component       Pid  \\\n",
       "0          1 2017-12-23 22:15:29.606                  Step_LSC  30002312   \n",
       "1          2 2017-12-23 22:15:29.615                  Step_LSC  30002312   \n",
       "2          3 2017-12-23 22:15:29.633  Step_StandReportReceiver  30002312   \n",
       "3          4 2017-12-23 22:15:29.635                  Step_LSC  30002312   \n",
       "4          5 2017-12-23 22:15:29.635     Step_StandStepCounter  30002312   \n",
       "...      ...                     ...                       ...       ...   \n",
       "1995    1996 2017-12-24 00:58:53.985                  Step_LSC  30002312   \n",
       "1996    1997 2017-12-24 00:59:07.581                  Step_LSC  30002312   \n",
       "1997    1998 2017-12-24 01:00:00.794                  Step_LSC  30002312   \n",
       "1998    1999 2017-12-24 01:01:00.935                  Step_LSC  30002312   \n",
       "1999    2000 2017-12-24 01:02:35.789                  Step_LSC  30002312   \n",
       "\n",
       "                                                Content EventId  \\\n",
       "0                               onStandStepChanged 3579     E42   \n",
       "1                         onExtend:1514038530000 14 0 4     E39   \n",
       "2     onReceive action: android.intent.action.SCREEN_ON     E41   \n",
       "3     processHandleBroadcastAction action:android.in...     E43   \n",
       "4                                     flush sensor data     E12   \n",
       "...                                                 ...     ...   \n",
       "1995  processHandleBroadcastAction action:android.in...     E44   \n",
       "1996  processHandleBroadcastAction action:android.in...     E44   \n",
       "1997  processHandleBroadcastAction action:android.in...     E44   \n",
       "1998  processHandleBroadcastAction action:android.in...     E44   \n",
       "1999  processHandleBroadcastAction action:android.in...     E44   \n",
       "\n",
       "                                          EventTemplate Screen_Status  \n",
       "0                                onStandStepChanged <*>           NaN  \n",
       "1                              onExtend:<*> <*> <*> <*>           NaN  \n",
       "2     onReceive action: android.intent.action.SCREEN_ON     SCREEN_ON  \n",
       "3     processHandleBroadcastAction action:android.in...     SCREEN_ON  \n",
       "4                                     flush sensor data           NaN  \n",
       "...                                                 ...           ...  \n",
       "1995  processHandleBroadcastAction action:android.in...           NaN  \n",
       "1996  processHandleBroadcastAction action:android.in...           NaN  \n",
       "1997  processHandleBroadcastAction action:android.in...           NaN  \n",
       "1998  processHandleBroadcastAction action:android.in...           NaN  \n",
       "1999  processHandleBroadcastAction action:android.in...           NaN  \n",
       "\n",
       "[2000 rows x 8 columns]"
      ]
     },
     "execution_count": 177,
     "metadata": {},
     "output_type": "execute_result"
    }
   ],
   "source": [
    "event_ids_to_extract = ['E40', 'E41', 'E43']\n",
    "# function to check whether the screen is closed or open\n",
    "def extract_screen_status(content):\n",
    "    matches = re.findall(r'(SCREEN_(OFF|ON))', content)\n",
    "    return ','.join([match[0] for match in matches])\n",
    "\n",
    "dfSCREEN=df\n",
    "dfSCREEN['Screen_Status'] = df[df['EventId'].isin(event_ids_to_extract)]['Content'].apply(extract_screen_status)\n",
    "dfSCREEN"
   ]
  },
  {
   "cell_type": "code",
   "execution_count": 178,
   "id": "c5d58c02",
   "metadata": {},
   "outputs": [
    {
     "data": {
      "image/png": "[encoded data removed]",
      "text/plain": [
       "<Figure size 1000x600 with 1 Axes>"
      ]
     },
     "metadata": {},
     "output_type": "display_data"
    }
   ],
   "source": [
    "color_map = {\n",
    "    'SCREEN_ON': 'blue',\n",
    "    'SCREEN_OFF': 'yellow'\n",
    "}\n",
    "\n",
    "plt.figure(figsize=(10, 6))\n",
    "for status, group in dfSCREEN.groupby('Screen_Status'):\n",
    "    plt.scatter(group['Time'], [1] * len(group), label=status, color=color_map.get(status, 'blue'))\n",
    "\n",
    "plt.xlabel('Time')\n",
    "plt.ylabel('Screen Status')\n",
    "plt.title('Screen Status Over Time')\n",
    "\n",
    "plt.legend(loc='upper left')\n",
    "\n",
    "plt.yticks([])\n",
    "plt.grid(True)\n",
    "plt.tight_layout()\n",
    "plt.show()"
   ]
  },
  {
   "cell_type": "markdown",
   "id": "e8d305b2",
   "metadata": {},
   "source": [
    "<center><span style=\"font-size:20px\">This Plot signifies at what time is the Screen <b>ON</b> or <b>OFF</b>.</span></center>"
   ]
  },
  {
   "cell_type": "markdown",
   "id": "924de37d",
   "metadata": {},
   "source": [
    "<center><span style=\"font-size:30px\"><b><u>System</u> <u>Failure</u> <u>Events</u></b></span></center>"
   ]
  },
  {
   "cell_type": "code",
   "execution_count": 179,
   "id": "69bf4f5a",
   "metadata": {},
   "outputs": [
    {
     "data": {
      "text/html": [
       "<div>\n",
       "<style scoped>\n",
       "    .dataframe tbody tr th:only-of-type {\n",
       "        vertical-align: middle;\n",
       "    }\n",
       "\n",
       "    .dataframe tbody tr th {\n",
       "        vertical-align: top;\n",
       "    }\n",
       "\n",
       "    .dataframe thead th {\n",
       "        text-align: right;\n",
       "    }\n",
       "</style>\n",
       "<table border=\"1\" class=\"dataframe\">\n",
       "  <thead>\n",
       "    <tr style=\"text-align: right;\">\n",
       "      <th></th>\n",
       "      <th>LineId</th>\n",
       "      <th>Time</th>\n",
       "      <th>Component</th>\n",
       "      <th>Pid</th>\n",
       "      <th>Content</th>\n",
       "      <th>EventId</th>\n",
       "      <th>EventTemplate</th>\n",
       "      <th>Screen_Status</th>\n",
       "    </tr>\n",
       "  </thead>\n",
       "  <tbody>\n",
       "    <tr>\n",
       "      <th>754</th>\n",
       "      <td>755</td>\n",
       "      <td>2017-12-23 22:19:58.428</td>\n",
       "      <td>HiH_HiBroadcastUtil</td>\n",
       "      <td>30002312</td>\n",
       "      <td>sendSyncFailedBroadcast</td>\n",
       "      <td>E54</td>\n",
       "      <td>sendSyncFailedBroadcast</td>\n",
       "      <td>NaN</td>\n",
       "    </tr>\n",
       "    <tr>\n",
       "      <th>794</th>\n",
       "      <td>795</td>\n",
       "      <td>2017-12-23 22:19:58.518</td>\n",
       "      <td>HiH_HiBroadcastUtil</td>\n",
       "      <td>30002312</td>\n",
       "      <td>sendSyncFailedBroadcast</td>\n",
       "      <td>E54</td>\n",
       "      <td>sendSyncFailedBroadcast</td>\n",
       "      <td>NaN</td>\n",
       "    </tr>\n",
       "    <tr>\n",
       "      <th>1014</th>\n",
       "      <td>1015</td>\n",
       "      <td>2017-12-23 22:32:28.801</td>\n",
       "      <td>HiH_HiBroadcastUtil</td>\n",
       "      <td>30002312</td>\n",
       "      <td>sendSyncFailedBroadcast</td>\n",
       "      <td>E54</td>\n",
       "      <td>sendSyncFailedBroadcast</td>\n",
       "      <td>NaN</td>\n",
       "    </tr>\n",
       "    <tr>\n",
       "      <th>1544</th>\n",
       "      <td>1545</td>\n",
       "      <td>2017-12-23 23:32:28.796</td>\n",
       "      <td>HiH_HiBroadcastUtil</td>\n",
       "      <td>30002312</td>\n",
       "      <td>sendSyncFailedBroadcast</td>\n",
       "      <td>E54</td>\n",
       "      <td>sendSyncFailedBroadcast</td>\n",
       "      <td>NaN</td>\n",
       "    </tr>\n",
       "    <tr>\n",
       "      <th>1982</th>\n",
       "      <td>1983</td>\n",
       "      <td>2017-12-24 00:32:28.806</td>\n",
       "      <td>HiH_HiBroadcastUtil</td>\n",
       "      <td>30002312</td>\n",
       "      <td>sendSyncFailedBroadcast</td>\n",
       "      <td>E54</td>\n",
       "      <td>sendSyncFailedBroadcast</td>\n",
       "      <td>NaN</td>\n",
       "    </tr>\n",
       "  </tbody>\n",
       "</table>\n",
       "</div>"
      ],
      "text/plain": [
       "      LineId                    Time            Component       Pid  \\\n",
       "754      755 2017-12-23 22:19:58.428  HiH_HiBroadcastUtil  30002312   \n",
       "794      795 2017-12-23 22:19:58.518  HiH_HiBroadcastUtil  30002312   \n",
       "1014    1015 2017-12-23 22:32:28.801  HiH_HiBroadcastUtil  30002312   \n",
       "1544    1545 2017-12-23 23:32:28.796  HiH_HiBroadcastUtil  30002312   \n",
       "1982    1983 2017-12-24 00:32:28.806  HiH_HiBroadcastUtil  30002312   \n",
       "\n",
       "                      Content EventId            EventTemplate Screen_Status  \n",
       "754   sendSyncFailedBroadcast     E54  sendSyncFailedBroadcast           NaN  \n",
       "794   sendSyncFailedBroadcast     E54  sendSyncFailedBroadcast           NaN  \n",
       "1014  sendSyncFailedBroadcast     E54  sendSyncFailedBroadcast           NaN  \n",
       "1544  sendSyncFailedBroadcast     E54  sendSyncFailedBroadcast           NaN  \n",
       "1982  sendSyncFailedBroadcast     E54  sendSyncFailedBroadcast           NaN  "
      ]
     },
     "execution_count": 179,
     "metadata": {},
     "output_type": "execute_result"
    }
   ],
   "source": [
    "System_Failure = df[df['EventId'] == 'E54']\n",
    "System_Failure"
   ]
  },
  {
   "cell_type": "code",
   "execution_count": 180,
   "id": "d6069063",
   "metadata": {},
   "outputs": [
    {
     "data": {
      "text/plain": [
       "<Axes: xlabel='Time', ylabel='LineId'>"
      ]
     },
     "execution_count": 180,
     "metadata": {},
     "output_type": "execute_result"
    },
    {
     "data": {
      "image/png": "[encoded data removed]",
      "text/plain": [
       "<Figure size 1000x600 with 1 Axes>"
      ]
     },
     "metadata": {},
     "output_type": "display_data"
    }
   ],
   "source": [
    "plt.figure(figsize=(10, 6))\n",
    "sns.lineplot(x = 'Time', y = 'LineId',color = 'red',data = System_Failure)\n",
    "sns.scatterplot(x = 'Time', y = 'LineId',color = 'blue',data = System_Failure)\n",
    "# plt.grid(True)\n",
    "# plt.tight_layout()"
   ]
  },
  {
   "cell_type": "markdown",
   "id": "e79d4232",
   "metadata": {},
   "source": [
    "<center><span style=\"font-size:20px\">This Plot signifies at what time does the system <b>CRASHES</b>.</span></center>"
   ]
  },
  {
   "cell_type": "markdown",
   "id": "bf75405b",
   "metadata": {},
   "source": [
    "<center><span style=\"font-size:30px\"><b><u>Altitude</u> <u>Analysis</u></b></span></center>"
   ]
  },
  {
   "cell_type": "code",
   "execution_count": 181,
   "id": "6a23e353",
   "metadata": {},
   "outputs": [
    {
     "data": {
      "text/html": [
       "<div>\n",
       "<style scoped>\n",
       "    .dataframe tbody tr th:only-of-type {\n",
       "        vertical-align: middle;\n",
       "    }\n",
       "\n",
       "    .dataframe tbody tr th {\n",
       "        vertical-align: top;\n",
       "    }\n",
       "\n",
       "    .dataframe thead th {\n",
       "        text-align: right;\n",
       "    }\n",
       "</style>\n",
       "<table border=\"1\" class=\"dataframe\">\n",
       "  <thead>\n",
       "    <tr style=\"text-align: right;\">\n",
       "      <th></th>\n",
       "      <th>Time</th>\n",
       "      <th>EventId</th>\n",
       "      <th>Content</th>\n",
       "      <th>totalAltitude</th>\n",
       "    </tr>\n",
       "  </thead>\n",
       "  <tbody>\n",
       "    <tr>\n",
       "      <th>9</th>\n",
       "      <td>2017-12-23 22:15:29.648</td>\n",
       "      <td>E3</td>\n",
       "      <td>calculateAltitudeWithCache totalAltitude=240</td>\n",
       "      <td>240.0</td>\n",
       "    </tr>\n",
       "    <tr>\n",
       "      <th>18</th>\n",
       "      <td>2017-12-23 22:15:29.962</td>\n",
       "      <td>E3</td>\n",
       "      <td>calculateAltitudeWithCache totalAltitude=240</td>\n",
       "      <td>240.0</td>\n",
       "    </tr>\n",
       "    <tr>\n",
       "      <th>25</th>\n",
       "      <td>2017-12-23 22:15:30.641</td>\n",
       "      <td>E3</td>\n",
       "      <td>calculateAltitudeWithCache totalAltitude=240</td>\n",
       "      <td>240.0</td>\n",
       "    </tr>\n",
       "    <tr>\n",
       "      <th>32</th>\n",
       "      <td>2017-12-23 22:15:31.160</td>\n",
       "      <td>E3</td>\n",
       "      <td>calculateAltitudeWithCache totalAltitude=240</td>\n",
       "      <td>240.0</td>\n",
       "    </tr>\n",
       "    <tr>\n",
       "      <th>39</th>\n",
       "      <td>2017-12-23 22:15:32.162</td>\n",
       "      <td>E3</td>\n",
       "      <td>calculateAltitudeWithCache totalAltitude=240</td>\n",
       "      <td>240.0</td>\n",
       "    </tr>\n",
       "    <tr>\n",
       "      <th>...</th>\n",
       "      <td>...</td>\n",
       "      <td>...</td>\n",
       "      <td>...</td>\n",
       "      <td>...</td>\n",
       "    </tr>\n",
       "    <tr>\n",
       "      <th>1928</th>\n",
       "      <td>2017-12-24 00:11:57.450</td>\n",
       "      <td>E3</td>\n",
       "      <td>calculateAltitudeWithCache totalAltitude=0</td>\n",
       "      <td>0.0</td>\n",
       "    </tr>\n",
       "    <tr>\n",
       "      <th>1938</th>\n",
       "      <td>2017-12-24 00:15:53.292</td>\n",
       "      <td>E3</td>\n",
       "      <td>calculateAltitudeWithCache totalAltitude=0</td>\n",
       "      <td>0.0</td>\n",
       "    </tr>\n",
       "    <tr>\n",
       "      <th>1954</th>\n",
       "      <td>2017-12-24 00:25:16.445</td>\n",
       "      <td>E3</td>\n",
       "      <td>calculateAltitudeWithCache totalAltitude=0</td>\n",
       "      <td>0.0</td>\n",
       "    </tr>\n",
       "    <tr>\n",
       "      <th>1960</th>\n",
       "      <td>2017-12-24 00:25:17.445</td>\n",
       "      <td>E3</td>\n",
       "      <td>calculateAltitudeWithCache totalAltitude=0</td>\n",
       "      <td>0.0</td>\n",
       "    </tr>\n",
       "    <tr>\n",
       "      <th>1969</th>\n",
       "      <td>2017-12-24 00:28:25.461</td>\n",
       "      <td>E3</td>\n",
       "      <td>calculateAltitudeWithCache totalAltitude=0</td>\n",
       "      <td>0.0</td>\n",
       "    </tr>\n",
       "  </tbody>\n",
       "</table>\n",
       "<p>241 rows × 4 columns</p>\n",
       "</div>"
      ],
      "text/plain": [
       "                        Time EventId  \\\n",
       "9    2017-12-23 22:15:29.648      E3   \n",
       "18   2017-12-23 22:15:29.962      E3   \n",
       "25   2017-12-23 22:15:30.641      E3   \n",
       "32   2017-12-23 22:15:31.160      E3   \n",
       "39   2017-12-23 22:15:32.162      E3   \n",
       "...                      ...     ...   \n",
       "1928 2017-12-24 00:11:57.450      E3   \n",
       "1938 2017-12-24 00:15:53.292      E3   \n",
       "1954 2017-12-24 00:25:16.445      E3   \n",
       "1960 2017-12-24 00:25:17.445      E3   \n",
       "1969 2017-12-24 00:28:25.461      E3   \n",
       "\n",
       "                                           Content  totalAltitude  \n",
       "9     calculateAltitudeWithCache totalAltitude=240          240.0  \n",
       "18    calculateAltitudeWithCache totalAltitude=240          240.0  \n",
       "25    calculateAltitudeWithCache totalAltitude=240          240.0  \n",
       "32    calculateAltitudeWithCache totalAltitude=240          240.0  \n",
       "39    calculateAltitudeWithCache totalAltitude=240          240.0  \n",
       "...                                            ...            ...  \n",
       "1928    calculateAltitudeWithCache totalAltitude=0            0.0  \n",
       "1938    calculateAltitudeWithCache totalAltitude=0            0.0  \n",
       "1954    calculateAltitudeWithCache totalAltitude=0            0.0  \n",
       "1960    calculateAltitudeWithCache totalAltitude=0            0.0  \n",
       "1969    calculateAltitudeWithCache totalAltitude=0            0.0  \n",
       "\n",
       "[241 rows x 4 columns]"
      ]
     },
     "execution_count": 181,
     "metadata": {},
     "output_type": "execute_result"
    }
   ],
   "source": [
    "Altitude = df[df['EventId'] == 'E3'][['Time', 'EventId','Content']]\n",
    "Altitude['totalAltitude'] = Altitude['Content'].str.extract(r'totalAltitude=(\\d+)')[0].astype(float)\n",
    "Altitude"
   ]
  },
  {
   "cell_type": "code",
   "execution_count": 182,
   "id": "ac4b9f1c",
   "metadata": {},
   "outputs": [
    {
     "data": {
      "text/plain": [
       "array([240.,   0.])"
      ]
     },
     "execution_count": 182,
     "metadata": {},
     "output_type": "execute_result"
    }
   ],
   "source": [
    "Altitude['totalAltitude'].unique()"
   ]
  },
  {
   "cell_type": "code",
   "execution_count": 183,
   "id": "8eeb3a33",
   "metadata": {},
   "outputs": [
    {
     "data": {
      "image/png": "[encoded data removed]",
      "text/plain": [
       "<Figure size 1000x600 with 1 Axes>"
      ]
     },
     "metadata": {},
     "output_type": "display_data"
    }
   ],
   "source": [
    "plt.figure(figsize=(10, 6))\n",
    "plt.plot(Altitude['Time'], Altitude['totalAltitude'], color='red')\n",
    "plt.xlabel('Timestamp')\n",
    "plt.ylabel('Altitude')\n",
    "plt.title('Altitude vs. Timestamp')\n",
    "plt.grid(True)\n",
    "plt.show()"
   ]
  },
  {
   "cell_type": "markdown",
   "id": "c5bb0c12",
   "metadata": {},
   "source": [
    "<center><span style=\"font-size:20px\">Plot of various <b>Altitudes</b> according to various <b>Timestamps</b>.</span></center>"
   ]
  },
  {
   "cell_type": "markdown",
   "id": "221f70e2",
   "metadata": {},
   "source": [
    "<center><span style=\"font-size:30px\"><b><u>Calories</u> <u>Analysis</u></b></span></center>"
   ]
  },
  {
   "cell_type": "code",
   "execution_count": 184,
   "id": "d8f23ab6",
   "metadata": {},
   "outputs": [
    {
     "data": {
      "text/html": [
       "<div>\n",
       "<style scoped>\n",
       "    .dataframe tbody tr th:only-of-type {\n",
       "        vertical-align: middle;\n",
       "    }\n",
       "\n",
       "    .dataframe tbody tr th {\n",
       "        vertical-align: top;\n",
       "    }\n",
       "\n",
       "    .dataframe thead th {\n",
       "        text-align: right;\n",
       "    }\n",
       "</style>\n",
       "<table border=\"1\" class=\"dataframe\">\n",
       "  <thead>\n",
       "    <tr style=\"text-align: right;\">\n",
       "      <th></th>\n",
       "      <th>Time</th>\n",
       "      <th>Content</th>\n",
       "      <th>EventId</th>\n",
       "      <th>totalCalories</th>\n",
       "    </tr>\n",
       "  </thead>\n",
       "  <tbody>\n",
       "    <tr>\n",
       "      <th>8</th>\n",
       "      <td>2017-12-23 22:15:29.645</td>\n",
       "      <td>calculateCaloriesWithCache totalCalories=126775</td>\n",
       "      <td>E4</td>\n",
       "      <td>126775.0</td>\n",
       "    </tr>\n",
       "    <tr>\n",
       "      <th>17</th>\n",
       "      <td>2017-12-23 22:15:29.959</td>\n",
       "      <td>calculateCaloriesWithCache totalCalories=126797</td>\n",
       "      <td>E4</td>\n",
       "      <td>126797.0</td>\n",
       "    </tr>\n",
       "    <tr>\n",
       "      <th>24</th>\n",
       "      <td>2017-12-23 22:15:30.639</td>\n",
       "      <td>calculateCaloriesWithCache totalCalories=126818</td>\n",
       "      <td>E4</td>\n",
       "      <td>126818.0</td>\n",
       "    </tr>\n",
       "    <tr>\n",
       "      <th>31</th>\n",
       "      <td>2017-12-23 22:15:31.157</td>\n",
       "      <td>calculateCaloriesWithCache totalCalories=126861</td>\n",
       "      <td>E4</td>\n",
       "      <td>126861.0</td>\n",
       "    </tr>\n",
       "    <tr>\n",
       "      <th>38</th>\n",
       "      <td>2017-12-23 22:15:32.156</td>\n",
       "      <td>calculateCaloriesWithCache totalCalories=126882</td>\n",
       "      <td>E4</td>\n",
       "      <td>126882.0</td>\n",
       "    </tr>\n",
       "    <tr>\n",
       "      <th>...</th>\n",
       "      <td>...</td>\n",
       "      <td>...</td>\n",
       "      <td>...</td>\n",
       "      <td>...</td>\n",
       "    </tr>\n",
       "    <tr>\n",
       "      <th>1927</th>\n",
       "      <td>2017-12-24 00:11:57.449</td>\n",
       "      <td>calculateCaloriesWithCache totalCalories=0</td>\n",
       "      <td>E4</td>\n",
       "      <td>0.0</td>\n",
       "    </tr>\n",
       "    <tr>\n",
       "      <th>1937</th>\n",
       "      <td>2017-12-24 00:15:53.292</td>\n",
       "      <td>calculateCaloriesWithCache totalCalories=0</td>\n",
       "      <td>E4</td>\n",
       "      <td>0.0</td>\n",
       "    </tr>\n",
       "    <tr>\n",
       "      <th>1953</th>\n",
       "      <td>2017-12-24 00:25:16.445</td>\n",
       "      <td>calculateCaloriesWithCache totalCalories=0</td>\n",
       "      <td>E4</td>\n",
       "      <td>0.0</td>\n",
       "    </tr>\n",
       "    <tr>\n",
       "      <th>1959</th>\n",
       "      <td>2017-12-24 00:25:17.445</td>\n",
       "      <td>calculateCaloriesWithCache totalCalories=0</td>\n",
       "      <td>E4</td>\n",
       "      <td>0.0</td>\n",
       "    </tr>\n",
       "    <tr>\n",
       "      <th>1968</th>\n",
       "      <td>2017-12-24 00:28:25.461</td>\n",
       "      <td>calculateCaloriesWithCache totalCalories=0</td>\n",
       "      <td>E4</td>\n",
       "      <td>0.0</td>\n",
       "    </tr>\n",
       "  </tbody>\n",
       "</table>\n",
       "<p>241 rows × 4 columns</p>\n",
       "</div>"
      ],
      "text/plain": [
       "                        Time                                          Content  \\\n",
       "8    2017-12-23 22:15:29.645  calculateCaloriesWithCache totalCalories=126775   \n",
       "17   2017-12-23 22:15:29.959  calculateCaloriesWithCache totalCalories=126797   \n",
       "24   2017-12-23 22:15:30.639  calculateCaloriesWithCache totalCalories=126818   \n",
       "31   2017-12-23 22:15:31.157  calculateCaloriesWithCache totalCalories=126861   \n",
       "38   2017-12-23 22:15:32.156  calculateCaloriesWithCache totalCalories=126882   \n",
       "...                      ...                                              ...   \n",
       "1927 2017-12-24 00:11:57.449       calculateCaloriesWithCache totalCalories=0   \n",
       "1937 2017-12-24 00:15:53.292       calculateCaloriesWithCache totalCalories=0   \n",
       "1953 2017-12-24 00:25:16.445       calculateCaloriesWithCache totalCalories=0   \n",
       "1959 2017-12-24 00:25:17.445       calculateCaloriesWithCache totalCalories=0   \n",
       "1968 2017-12-24 00:28:25.461       calculateCaloriesWithCache totalCalories=0   \n",
       "\n",
       "     EventId  totalCalories  \n",
       "8         E4       126775.0  \n",
       "17        E4       126797.0  \n",
       "24        E4       126818.0  \n",
       "31        E4       126861.0  \n",
       "38        E4       126882.0  \n",
       "...      ...            ...  \n",
       "1927      E4            0.0  \n",
       "1937      E4            0.0  \n",
       "1953      E4            0.0  \n",
       "1959      E4            0.0  \n",
       "1968      E4            0.0  \n",
       "\n",
       "[241 rows x 4 columns]"
      ]
     },
     "execution_count": 184,
     "metadata": {},
     "output_type": "execute_result"
    }
   ],
   "source": [
    "Calories = df[df['EventId'] == 'E4'][['Time','Content', 'EventId']]\n",
    "Calories['totalCalories'] = Calories['Content'].str.extract(r'totalCalories=(\\d+)')[0].astype(float)\n",
    "Calories"
   ]
  },
  {
   "cell_type": "code",
   "execution_count": 185,
   "id": "b42fe134",
   "metadata": {},
   "outputs": [
    {
     "data": {
      "image/png": "[encoded data removed]",
      "text/plain": [
       "<Figure size 1000x600 with 1 Axes>"
      ]
     },
     "metadata": {},
     "output_type": "display_data"
    }
   ],
   "source": [
    "plt.figure(figsize=(10, 6))\n",
    "plt.plot(Calories['Time'], Calories['totalCalories'], color = 'red')\n",
    "plt.xlabel('Time')\n",
    "plt.ylabel('Calories')\n",
    "plt.title('Calories vs. Timestamp')\n",
    "plt.grid(axis='y')\n",
    "plt.tight_layout()\n",
    "plt.show()"
   ]
  },
  {
   "cell_type": "markdown",
   "id": "976caf04",
   "metadata": {},
   "source": [
    "<center><span style=\"font-size:20px\">Plot of different <b>Calories</b> according to various <b>Timestamps</b>.</span></center>"
   ]
  },
  {
   "cell_type": "code",
   "execution_count": 186,
   "id": "09fbaf90",
   "metadata": {},
   "outputs": [
    {
     "data": {
      "image/png": "[encoded data removed]",
      "text/plain": [
       "<Figure size 1200x600 with 1 Axes>"
      ]
     },
     "metadata": {},
     "output_type": "display_data"
    }
   ],
   "source": [
    "date_filter = '20171223'\n",
    "filtered_df = Calories[Calories['Time'].dt.strftime('%Y%m%d') == date_filter]\n",
    "plt.figure(figsize=(12, 6)) \n",
    "plt.plot(filtered_df['Time'], filtered_df['totalCalories'], linestyle='--', color='r')\n",
    "plt.xlabel('Time')\n",
    "plt.ylabel('Total Calories')\n",
    "plt.title(f'Calories vs. Time for {date_filter}')\n",
    "plt.grid(True)\n",
    "plt.tight_layout()\n",
    "plt.show()"
   ]
  },
  {
   "cell_type": "markdown",
   "id": "fb0e7a7f",
   "metadata": {},
   "source": [
    "<center><span style=\"font-size:20px\"><b>Calories</b> chart of the day(23-12-2017).</span></center>"
   ]
  },
  {
   "cell_type": "markdown",
   "id": "f2ae51ff",
   "metadata": {},
   "source": [
    "<center><span style=\"font-size:30px\"><b><u>Step</u>-<u>count</u> <u>Analysis</u></b></span></center>"
   ]
  },
  {
   "cell_type": "code",
   "execution_count": 187,
   "id": "23901c6f",
   "metadata": {},
   "outputs": [
    {
     "data": {
      "text/html": [
       "<div>\n",
       "<style scoped>\n",
       "    .dataframe tbody tr th:only-of-type {\n",
       "        vertical-align: middle;\n",
       "    }\n",
       "\n",
       "    .dataframe tbody tr th {\n",
       "        vertical-align: top;\n",
       "    }\n",
       "\n",
       "    .dataframe thead th {\n",
       "        text-align: right;\n",
       "    }\n",
       "</style>\n",
       "<table border=\"1\" class=\"dataframe\">\n",
       "  <thead>\n",
       "    <tr style=\"text-align: right;\">\n",
       "      <th></th>\n",
       "      <th>Time</th>\n",
       "      <th>EventId</th>\n",
       "      <th>Content</th>\n",
       "    </tr>\n",
       "  </thead>\n",
       "  <tbody>\n",
       "    <tr>\n",
       "      <th>0</th>\n",
       "      <td>2017-12-23 22:15:29.606</td>\n",
       "      <td>E42</td>\n",
       "      <td>onStandStepChanged 3579</td>\n",
       "    </tr>\n",
       "    <tr>\n",
       "      <th>7</th>\n",
       "      <td>2017-12-23 22:15:29.636</td>\n",
       "      <td>E42</td>\n",
       "      <td>onStandStepChanged 3579</td>\n",
       "    </tr>\n",
       "    <tr>\n",
       "      <th>12</th>\n",
       "      <td>2017-12-23 22:15:29.738</td>\n",
       "      <td>E42</td>\n",
       "      <td>onStandStepChanged 3579</td>\n",
       "    </tr>\n",
       "    <tr>\n",
       "      <th>13</th>\n",
       "      <td>2017-12-23 22:15:29.792</td>\n",
       "      <td>E42</td>\n",
       "      <td>onStandStepChanged 3580</td>\n",
       "    </tr>\n",
       "    <tr>\n",
       "      <th>20</th>\n",
       "      <td>2017-12-23 22:15:30.331</td>\n",
       "      <td>E42</td>\n",
       "      <td>onStandStepChanged 3581</td>\n",
       "    </tr>\n",
       "    <tr>\n",
       "      <th>...</th>\n",
       "      <td>...</td>\n",
       "      <td>...</td>\n",
       "      <td>...</td>\n",
       "    </tr>\n",
       "    <tr>\n",
       "      <th>1923</th>\n",
       "      <td>2017-12-24 00:11:57.141</td>\n",
       "      <td>E42</td>\n",
       "      <td>onStandStepChanged 3786</td>\n",
       "    </tr>\n",
       "    <tr>\n",
       "      <th>1933</th>\n",
       "      <td>2017-12-24 00:15:52.983</td>\n",
       "      <td>E42</td>\n",
       "      <td>onStandStepChanged 3786</td>\n",
       "    </tr>\n",
       "    <tr>\n",
       "      <th>1949</th>\n",
       "      <td>2017-12-24 00:25:16.137</td>\n",
       "      <td>E42</td>\n",
       "      <td>onStandStepChanged 3786</td>\n",
       "    </tr>\n",
       "    <tr>\n",
       "      <th>1955</th>\n",
       "      <td>2017-12-24 00:25:17.137</td>\n",
       "      <td>E42</td>\n",
       "      <td>onStandStepChanged 3786</td>\n",
       "    </tr>\n",
       "    <tr>\n",
       "      <th>1964</th>\n",
       "      <td>2017-12-24 00:28:25.151</td>\n",
       "      <td>E42</td>\n",
       "      <td>onStandStepChanged 3786</td>\n",
       "    </tr>\n",
       "  </tbody>\n",
       "</table>\n",
       "<p>260 rows × 3 columns</p>\n",
       "</div>"
      ],
      "text/plain": [
       "                        Time EventId                  Content\n",
       "0    2017-12-23 22:15:29.606     E42  onStandStepChanged 3579\n",
       "7    2017-12-23 22:15:29.636     E42  onStandStepChanged 3579\n",
       "12   2017-12-23 22:15:29.738     E42  onStandStepChanged 3579\n",
       "13   2017-12-23 22:15:29.792     E42  onStandStepChanged 3580\n",
       "20   2017-12-23 22:15:30.331     E42  onStandStepChanged 3581\n",
       "...                      ...     ...                      ...\n",
       "1923 2017-12-24 00:11:57.141     E42  onStandStepChanged 3786\n",
       "1933 2017-12-24 00:15:52.983     E42  onStandStepChanged 3786\n",
       "1949 2017-12-24 00:25:16.137     E42  onStandStepChanged 3786\n",
       "1955 2017-12-24 00:25:17.137     E42  onStandStepChanged 3786\n",
       "1964 2017-12-24 00:28:25.151     E42  onStandStepChanged 3786\n",
       "\n",
       "[260 rows x 3 columns]"
      ]
     },
     "execution_count": 187,
     "metadata": {},
     "output_type": "execute_result"
    }
   ],
   "source": [
    "event_ids_to_extract = ['E42']\n",
    "step_count = df[df['EventId'].isin(event_ids_to_extract)][['Time', 'EventId','Content']]\n",
    "step_count"
   ]
  },
  {
   "cell_type": "code",
   "execution_count": 188,
   "id": "a3ef24fc",
   "metadata": {},
   "outputs": [
    {
     "data": {
      "text/plain": [
       "Time\n",
       "2017-12-23    236\n",
       "2017-12-24     24\n",
       "dtype: int64"
      ]
     },
     "execution_count": 188,
     "metadata": {},
     "output_type": "execute_result"
    }
   ],
   "source": [
    "daily_step_counts = step_count.groupby(step_count['Time'].dt.date).size()\n",
    "daily_step_counts "
   ]
  },
  {
   "cell_type": "code",
   "execution_count": 189,
   "id": "b7626a99",
   "metadata": {},
   "outputs": [
    {
     "data": {
      "text/html": [
       "<div>\n",
       "<style scoped>\n",
       "    .dataframe tbody tr th:only-of-type {\n",
       "        vertical-align: middle;\n",
       "    }\n",
       "\n",
       "    .dataframe tbody tr th {\n",
       "        vertical-align: top;\n",
       "    }\n",
       "\n",
       "    .dataframe thead th {\n",
       "        text-align: right;\n",
       "    }\n",
       "</style>\n",
       "<table border=\"1\" class=\"dataframe\">\n",
       "  <thead>\n",
       "    <tr style=\"text-align: right;\">\n",
       "      <th></th>\n",
       "      <th>Time</th>\n",
       "      <th>EventId</th>\n",
       "      <th>Content</th>\n",
       "      <th>StepCount</th>\n",
       "    </tr>\n",
       "  </thead>\n",
       "  <tbody>\n",
       "    <tr>\n",
       "      <th>0</th>\n",
       "      <td>2017-12-23 22:15:29.606</td>\n",
       "      <td>E42</td>\n",
       "      <td>onStandStepChanged 3579</td>\n",
       "      <td>3579</td>\n",
       "    </tr>\n",
       "    <tr>\n",
       "      <th>7</th>\n",
       "      <td>2017-12-23 22:15:29.636</td>\n",
       "      <td>E42</td>\n",
       "      <td>onStandStepChanged 3579</td>\n",
       "      <td>3579</td>\n",
       "    </tr>\n",
       "    <tr>\n",
       "      <th>12</th>\n",
       "      <td>2017-12-23 22:15:29.738</td>\n",
       "      <td>E42</td>\n",
       "      <td>onStandStepChanged 3579</td>\n",
       "      <td>3579</td>\n",
       "    </tr>\n",
       "    <tr>\n",
       "      <th>13</th>\n",
       "      <td>2017-12-23 22:15:29.792</td>\n",
       "      <td>E42</td>\n",
       "      <td>onStandStepChanged 3580</td>\n",
       "      <td>3580</td>\n",
       "    </tr>\n",
       "    <tr>\n",
       "      <th>20</th>\n",
       "      <td>2017-12-23 22:15:30.331</td>\n",
       "      <td>E42</td>\n",
       "      <td>onStandStepChanged 3581</td>\n",
       "      <td>3581</td>\n",
       "    </tr>\n",
       "    <tr>\n",
       "      <th>...</th>\n",
       "      <td>...</td>\n",
       "      <td>...</td>\n",
       "      <td>...</td>\n",
       "      <td>...</td>\n",
       "    </tr>\n",
       "    <tr>\n",
       "      <th>1923</th>\n",
       "      <td>2017-12-24 00:11:57.141</td>\n",
       "      <td>E42</td>\n",
       "      <td>onStandStepChanged 3786</td>\n",
       "      <td>3786</td>\n",
       "    </tr>\n",
       "    <tr>\n",
       "      <th>1933</th>\n",
       "      <td>2017-12-24 00:15:52.983</td>\n",
       "      <td>E42</td>\n",
       "      <td>onStandStepChanged 3786</td>\n",
       "      <td>3786</td>\n",
       "    </tr>\n",
       "    <tr>\n",
       "      <th>1949</th>\n",
       "      <td>2017-12-24 00:25:16.137</td>\n",
       "      <td>E42</td>\n",
       "      <td>onStandStepChanged 3786</td>\n",
       "      <td>3786</td>\n",
       "    </tr>\n",
       "    <tr>\n",
       "      <th>1955</th>\n",
       "      <td>2017-12-24 00:25:17.137</td>\n",
       "      <td>E42</td>\n",
       "      <td>onStandStepChanged 3786</td>\n",
       "      <td>3786</td>\n",
       "    </tr>\n",
       "    <tr>\n",
       "      <th>1964</th>\n",
       "      <td>2017-12-24 00:28:25.151</td>\n",
       "      <td>E42</td>\n",
       "      <td>onStandStepChanged 3786</td>\n",
       "      <td>3786</td>\n",
       "    </tr>\n",
       "  </tbody>\n",
       "</table>\n",
       "<p>260 rows × 4 columns</p>\n",
       "</div>"
      ],
      "text/plain": [
       "                        Time EventId                  Content  StepCount\n",
       "0    2017-12-23 22:15:29.606     E42  onStandStepChanged 3579       3579\n",
       "7    2017-12-23 22:15:29.636     E42  onStandStepChanged 3579       3579\n",
       "12   2017-12-23 22:15:29.738     E42  onStandStepChanged 3579       3579\n",
       "13   2017-12-23 22:15:29.792     E42  onStandStepChanged 3580       3580\n",
       "20   2017-12-23 22:15:30.331     E42  onStandStepChanged 3581       3581\n",
       "...                      ...     ...                      ...        ...\n",
       "1923 2017-12-24 00:11:57.141     E42  onStandStepChanged 3786       3786\n",
       "1933 2017-12-24 00:15:52.983     E42  onStandStepChanged 3786       3786\n",
       "1949 2017-12-24 00:25:16.137     E42  onStandStepChanged 3786       3786\n",
       "1955 2017-12-24 00:25:17.137     E42  onStandStepChanged 3786       3786\n",
       "1964 2017-12-24 00:28:25.151     E42  onStandStepChanged 3786       3786\n",
       "\n",
       "[260 rows x 4 columns]"
      ]
     },
     "execution_count": 189,
     "metadata": {},
     "output_type": "execute_result"
    }
   ],
   "source": [
    "event_ids_to_extract = ['E42']\n",
    "steps = df[df['EventId'].isin(event_ids_to_extract)][['Time', 'EventId','Content']]\n",
    "steps['StepCount'] = steps['Content'].str.extract(r'onStandStepChanged (\\d+)')[0].astype(int)\n",
    "steps"
   ]
  },
  {
   "cell_type": "code",
   "execution_count": 190,
   "id": "0ea43f49",
   "metadata": {},
   "outputs": [
    {
     "data": {
      "image/png": "[encoded data removed]",
      "text/plain": [
       "<Figure size 1200x600 with 1 Axes>"
      ]
     },
     "metadata": {},
     "output_type": "display_data"
    }
   ],
   "source": [
    "plt.figure(figsize=(12, 6))\n",
    "plt.plot(steps['Time'], steps['StepCount'], color = 'red')\n",
    "plt.title('Step Count Over Time')\n",
    "plt.xlabel('Time')\n",
    "plt.ylabel('Step Count')\n",
    "plt.grid(True)\n",
    "plt.show()"
   ]
  },
  {
   "cell_type": "markdown",
   "id": "e7f1e312",
   "metadata": {},
   "source": [
    "<center><span style=\"font-size:20px\">This Plot signifies number of <b>Step-counts</b> along various span of time.</span></center>"
   ]
  },
  {
   "cell_type": "code",
   "execution_count": 197,
   "id": "0439dbf6",
   "metadata": {},
   "outputs": [
    {
     "data": {
      "text/plain": [
       "Time\n",
       "2017-12-24     24\n",
       "2017-12-23    236\n",
       "dtype: int64"
      ]
     },
     "execution_count": 197,
     "metadata": {},
     "output_type": "execute_result"
    }
   ],
   "source": [
    "day_wise_activity = steps.groupby(step_count['Time'].dt.date).size()\n",
    "day_wise_activity = day_wise_activity.sort_values(ascending=True)\n",
    "day_wise_activity"
   ]
  },
  {
   "cell_type": "code",
   "execution_count": 210,
   "id": "392146c0",
   "metadata": {
    "scrolled": true
   },
   "outputs": [
    {
     "data": {
      "image/png": "[encoded data removed]",
      "text/plain": [
       "<Figure size 1200x1000 with 1 Axes>"
      ]
     },
     "metadata": {},
     "output_type": "display_data"
    }
   ],
   "source": [
    "plt.figure(figsize=(12,10))\n",
    "day_wise_activity.plot(kind='bar',color = 'red')\n",
    "plt.title('Activity')\n",
    "plt.xlabel('Time',loc = 'center')\n",
    "plt.ylabel('Number of Events')\n",
    "plt.tight_layout()\n",
    "plt.show()"
   ]
  },
  {
   "cell_type": "markdown",
   "id": "52333c2e",
   "metadata": {},
   "source": [
    "<center><span style=\"font-size:20px\"><b>Bar Plot</b> of <b>Events</b> in each Day.</span></center>"
   ]
  },
  {
   "cell_type": "code",
   "execution_count": 105,
   "id": "23134e6a",
   "metadata": {},
   "outputs": [
    {
     "data": {
      "text/html": [
       "<div>\n",
       "<style scoped>\n",
       "    .dataframe tbody tr th:only-of-type {\n",
       "        vertical-align: middle;\n",
       "    }\n",
       "\n",
       "    .dataframe tbody tr th {\n",
       "        vertical-align: top;\n",
       "    }\n",
       "\n",
       "    .dataframe thead th {\n",
       "        text-align: right;\n",
       "    }\n",
       "</style>\n",
       "<table border=\"1\" class=\"dataframe\">\n",
       "  <thead>\n",
       "    <tr style=\"text-align: right;\">\n",
       "      <th></th>\n",
       "      <th>LineId</th>\n",
       "      <th>Time</th>\n",
       "      <th>Component</th>\n",
       "      <th>Pid</th>\n",
       "      <th>Content</th>\n",
       "      <th>EventId</th>\n",
       "      <th>Screen_Status</th>\n",
       "    </tr>\n",
       "  </thead>\n",
       "  <tbody>\n",
       "    <tr>\n",
       "      <th>1</th>\n",
       "      <td>2</td>\n",
       "      <td>2017-12-23 22:15:29.615</td>\n",
       "      <td>Step_LSC</td>\n",
       "      <td>30002312</td>\n",
       "      <td>onExtend:1514038530000 14 0 4</td>\n",
       "      <td>E39</td>\n",
       "      <td>NaN</td>\n",
       "    </tr>\n",
       "    <tr>\n",
       "      <th>11</th>\n",
       "      <td>12</td>\n",
       "      <td>2017-12-23 22:15:29.737</td>\n",
       "      <td>Step_LSC</td>\n",
       "      <td>30002312</td>\n",
       "      <td>onExtend:1514038530000 0 0 4</td>\n",
       "      <td>E39</td>\n",
       "      <td>NaN</td>\n",
       "    </tr>\n",
       "    <tr>\n",
       "      <th>14</th>\n",
       "      <td>15</td>\n",
       "      <td>2017-12-23 22:15:29.800</td>\n",
       "      <td>Step_LSC</td>\n",
       "      <td>30002312</td>\n",
       "      <td>onExtend:1514038530000 1 0 4</td>\n",
       "      <td>E39</td>\n",
       "      <td>NaN</td>\n",
       "    </tr>\n",
       "    <tr>\n",
       "      <th>21</th>\n",
       "      <td>22</td>\n",
       "      <td>2017-12-23 22:15:30.335</td>\n",
       "      <td>Step_LSC</td>\n",
       "      <td>30002312</td>\n",
       "      <td>onExtend:1514038531000 1 0 4</td>\n",
       "      <td>E39</td>\n",
       "      <td>NaN</td>\n",
       "    </tr>\n",
       "    <tr>\n",
       "      <th>28</th>\n",
       "      <td>29</td>\n",
       "      <td>2017-12-23 22:15:30.858</td>\n",
       "      <td>Step_LSC</td>\n",
       "      <td>30002312</td>\n",
       "      <td>onExtend:1514038531000 2 0 4</td>\n",
       "      <td>E39</td>\n",
       "      <td>NaN</td>\n",
       "    </tr>\n",
       "    <tr>\n",
       "      <th>...</th>\n",
       "      <td>...</td>\n",
       "      <td>...</td>\n",
       "      <td>...</td>\n",
       "      <td>...</td>\n",
       "      <td>...</td>\n",
       "      <td>...</td>\n",
       "      <td>...</td>\n",
       "    </tr>\n",
       "    <tr>\n",
       "      <th>1924</th>\n",
       "      <td>1925</td>\n",
       "      <td>2017-12-24 00:11:57.149</td>\n",
       "      <td>Step_LSC</td>\n",
       "      <td>30002312</td>\n",
       "      <td>onExtend:1514045517000 0 0 0</td>\n",
       "      <td>E39</td>\n",
       "      <td>NaN</td>\n",
       "    </tr>\n",
       "    <tr>\n",
       "      <th>1934</th>\n",
       "      <td>1935</td>\n",
       "      <td>2017-12-24 00:15:52.990</td>\n",
       "      <td>Step_LSC</td>\n",
       "      <td>30002312</td>\n",
       "      <td>onExtend:1514045753000 0 0 0</td>\n",
       "      <td>E39</td>\n",
       "      <td>NaN</td>\n",
       "    </tr>\n",
       "    <tr>\n",
       "      <th>1950</th>\n",
       "      <td>1951</td>\n",
       "      <td>2017-12-24 00:25:16.146</td>\n",
       "      <td>Step_LSC</td>\n",
       "      <td>30002312</td>\n",
       "      <td>onExtend:1514046316000 0 0 5</td>\n",
       "      <td>E39</td>\n",
       "      <td>NaN</td>\n",
       "    </tr>\n",
       "    <tr>\n",
       "      <th>1956</th>\n",
       "      <td>1957</td>\n",
       "      <td>2017-12-24 00:25:17.149</td>\n",
       "      <td>Step_LSC</td>\n",
       "      <td>30002312</td>\n",
       "      <td>onExtend:1514046317000 0 0 0</td>\n",
       "      <td>E39</td>\n",
       "      <td>NaN</td>\n",
       "    </tr>\n",
       "    <tr>\n",
       "      <th>1965</th>\n",
       "      <td>1966</td>\n",
       "      <td>2017-12-24 00:28:25.159</td>\n",
       "      <td>Step_LSC</td>\n",
       "      <td>30002312</td>\n",
       "      <td>onExtend:1514046505000 0 0 5</td>\n",
       "      <td>E39</td>\n",
       "      <td>NaN</td>\n",
       "    </tr>\n",
       "  </tbody>\n",
       "</table>\n",
       "<p>273 rows × 7 columns</p>\n",
       "</div>"
      ],
      "text/plain": [
       "      LineId                    Time Component       Pid  \\\n",
       "1          2 2017-12-23 22:15:29.615  Step_LSC  30002312   \n",
       "11        12 2017-12-23 22:15:29.737  Step_LSC  30002312   \n",
       "14        15 2017-12-23 22:15:29.800  Step_LSC  30002312   \n",
       "21        22 2017-12-23 22:15:30.335  Step_LSC  30002312   \n",
       "28        29 2017-12-23 22:15:30.858  Step_LSC  30002312   \n",
       "...      ...                     ...       ...       ...   \n",
       "1924    1925 2017-12-24 00:11:57.149  Step_LSC  30002312   \n",
       "1934    1935 2017-12-24 00:15:52.990  Step_LSC  30002312   \n",
       "1950    1951 2017-12-24 00:25:16.146  Step_LSC  30002312   \n",
       "1956    1957 2017-12-24 00:25:17.149  Step_LSC  30002312   \n",
       "1965    1966 2017-12-24 00:28:25.159  Step_LSC  30002312   \n",
       "\n",
       "                            Content EventId Screen_Status  \n",
       "1     onExtend:1514038530000 14 0 4     E39           NaN  \n",
       "11     onExtend:1514038530000 0 0 4     E39           NaN  \n",
       "14     onExtend:1514038530000 1 0 4     E39           NaN  \n",
       "21     onExtend:1514038531000 1 0 4     E39           NaN  \n",
       "28     onExtend:1514038531000 2 0 4     E39           NaN  \n",
       "...                             ...     ...           ...  \n",
       "1924   onExtend:1514045517000 0 0 0     E39           NaN  \n",
       "1934   onExtend:1514045753000 0 0 0     E39           NaN  \n",
       "1950   onExtend:1514046316000 0 0 5     E39           NaN  \n",
       "1956   onExtend:1514046317000 0 0 0     E39           NaN  \n",
       "1965   onExtend:1514046505000 0 0 5     E39           NaN  \n",
       "\n",
       "[273 rows x 7 columns]"
      ]
     },
     "execution_count": 105,
     "metadata": {},
     "output_type": "execute_result"
    }
   ],
   "source": [
    "s = df[df['EventId'] == 'E39']\n",
    "s"
   ]
  },
  {
   "cell_type": "code",
   "execution_count": null,
   "id": "8a7621f2",
   "metadata": {},
   "outputs": [],
   "source": []
  }
 ],
 "metadata": {
  "kernelspec": {
   "display_name": "Python 3 (ipykernel)",
   "language": "python",
   "name": "python3"
  },
  "language_info": {
   "codemirror_mode": {
    "name": "ipython",
    "version": 3
   },
   "file_extension": ".py",
   "mimetype": "text/x-python",
   "name": "python",
   "nbconvert_exporter": "python",
   "pygments_lexer": "ipython3",
   "version": "3.10.9"
  }
 },
 "nbformat": 4,
 "nbformat_minor": 5
}
